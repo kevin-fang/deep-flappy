{
 "cells": [
  {
   "cell_type": "code",
   "execution_count": 3,
   "metadata": {
    "collapsed": true
   },
   "outputs": [],
   "source": [
    "import tensorflow as tf\n",
    "from config import *\n",
    "from tf_graph import FlappyGraph"
   ]
  },
  {
   "cell_type": "code",
   "execution_count": 4,
   "metadata": {},
   "outputs": [],
   "source": [
    "# initialize the neural network\n",
    "flappy_graph = FlappyGraph(NUM_NEURAL_DIMS)\n",
    "init = tf.global_variables_initializer()\n",
    "global sess\n",
    "sess = tf.Session()\n",
    "sess.run(init)\n",
    "\n",
    "# functions to load/save a model\n",
    "global saver\n",
    "saver = tf.train.Saver()\n",
    "def save_model():\n",
    "    if not os.path.exists(MODEL_DIR):\n",
    "        os.makedirs(MODEL_DIR)\n",
    "    saver.save(sess, MODEL_PATH)\n",
    "\n",
    "def restore_model():\n",
    "    saver.restore(sess, MODEL_PATH)"
   ]
  },
  {
   "cell_type": "code",
   "execution_count": 6,
   "metadata": {},
   "outputs": [
    {
     "name": "stdout",
     "output_type": "stream",
     "text": [
      "INFO:tensorflow:Restoring parameters from ./models/trained_flappy\n"
     ]
    }
   ],
   "source": [
    "restore_model()"
   ]
  },
  {
   "cell_type": "code",
   "execution_count": 11,
   "metadata": {},
   "outputs": [],
   "source": [
    "W3, b3 = sess.run([flappy_graph.W3, flappy_graph.b3])"
   ]
  },
  {
   "cell_type": "code",
   "execution_count": 12,
   "metadata": {},
   "outputs": [
    {
     "data": {
      "text/plain": [
       "array([[-0.01283319],\n",
       "       [ 0.00521584],\n",
       "       [ 0.01207536],\n",
       "       [-0.00429031],\n",
       "       [ 0.01558091],\n",
       "       [-0.00047827]], dtype=float32)"
      ]
     },
     "execution_count": 12,
     "metadata": {},
     "output_type": "execute_result"
    }
   ],
   "source": [
    "#CANVAS_HEIGHT - self.birdY, \n",
    "            #self.wallx - 120, \n",
    "            #self.birdY - top_dist,\n",
    "            #bottom_dist - self.birdY,\n",
    "            #self.gravity], \n",
    "W3"
   ]
  },
  {
   "cell_type": "code",
   "execution_count": 14,
   "metadata": {},
   "outputs": [
    {
     "data": {
      "text/plain": [
       "array([ 1.], dtype=float32)"
      ]
     },
     "execution_count": 14,
     "metadata": {},
     "output_type": "execute_result"
    }
   ],
   "source": [
    "b3"
   ]
  },
  {
   "cell_type": "code",
   "execution_count": null,
   "metadata": {
    "collapsed": true
   },
   "outputs": [],
   "source": []
  }
 ],
 "metadata": {
  "kernelspec": {
   "display_name": "Python 3",
   "language": "python",
   "name": "python3"
  },
  "language_info": {
   "codemirror_mode": {
    "name": "ipython",
    "version": 3
   },
   "file_extension": ".py",
   "mimetype": "text/x-python",
   "name": "python",
   "nbconvert_exporter": "python",
   "pygments_lexer": "ipython3",
   "version": "3.6.3"
  }
 },
 "nbformat": 4,
 "nbformat_minor": 2
}
