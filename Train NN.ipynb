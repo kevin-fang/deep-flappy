{
 "cells": [
  {
   "cell_type": "code",
   "execution_count": 1,
   "metadata": {
    "collapsed": true
   },
   "outputs": [],
   "source": [
    "import train_nn"
   ]
  },
  {
   "cell_type": "code",
   "execution_count": 2,
   "metadata": {
    "collapsed": true
   },
   "outputs": [],
   "source": [
    "import random, os, numpy as np, tensorflow as tf\n",
    "from config import *\n",
    "from tf_graph import FlappyGraph"
   ]
  },
  {
   "cell_type": "code",
   "execution_count": 3,
   "metadata": {
    "collapsed": true
   },
   "outputs": [],
   "source": [
    "def add_jumps_to_training(training_images, last_jumps):\n",
    "    print(\"Parsing data...\")\n",
    "    iter_counter = 0\n",
    "    X_data = []\n",
    "    # (game frames, height, width)\n",
    "    for i, game in enumerate(training_images):\n",
    "        X_data.append([])\n",
    "        for j, image in enumerate(game):\n",
    "            X_data[iter_counter].append(np.append(image.ravel(), last_jumps[i][j]))\n",
    "        X_data[iter_counter] = np.array(X_data[iter_counter], dtype=np.float32)\n",
    "        iter_counter += 1\n",
    "\n",
    "    return np.array(X_data)"
   ]
  },
  {
   "cell_type": "code",
   "execution_count": 4,
   "metadata": {},
   "outputs": [
    {
     "name": "stdout",
     "output_type": "stream",
     "text": [
      "Loading data...\n",
      "Parsing data...\n"
     ]
    }
   ],
   "source": [
    "print(\"Loading data...\")\n",
    "training_images = np.load(os.path.join(DATA_DIR, \"images.npy\"))\n",
    "actions = np.load(os.path.join(DATA_DIR, \"actions.npy\"))\n",
    "rewards = np.load(os.path.join(DATA_DIR, \"adjusted_rewards.npy\"))\n",
    "last_jumps = np.load(os.path.join(DATA_DIR, \"last_jumps.npy\"))\n",
    "X_data = add_jumps_to_training(training_images = training_images, last_jumps = last_jumps)"
   ]
  },
  {
   "cell_type": "code",
   "execution_count": 5,
   "metadata": {
    "collapsed": true
   },
   "outputs": [],
   "source": [
    "flappy_graph = FlappyGraph(int((CANVAS_WIDTH * IMG_SCALE_FACTOR) * round(CANVAS_HEIGHT * IMG_SCALE_FACTOR)) + 1, 2)\n",
    "init = tf.global_variables_initializer()\n",
    "sess = tf.Session()\n",
    "sess.run(init)    "
   ]
  },
  {
   "cell_type": "code",
   "execution_count": 6,
   "metadata": {
    "scrolled": true
   },
   "outputs": [
    {
     "name": "stdout",
     "output_type": "stream",
     "text": [
      "loss nan\n",
      "loss 20786.2\n",
      "loss 20641.8\n",
      "loss 20484.8\n",
      "loss 20306.8\n",
      "loss -1.43017e+06\n",
      "loss -1.77568e+06\n",
      "loss -1.80671e+06\n",
      "loss -1.82892e+06\n",
      "loss -1.8466e+06\n",
      "loss 13714.6\n",
      "loss 13713.9\n",
      "loss 13713.2\n",
      "loss 13712.4\n",
      "loss 13711.7\n",
      "loss 26134.2\n",
      "loss 26131.6\n",
      "loss 26128.9\n",
      "loss 26126.3\n",
      "loss 26123.7\n",
      "loss -916.88\n",
      "loss -916.884\n",
      "loss -916.887\n",
      "loss -916.89\n",
      "loss -916.893\n"
     ]
    }
   ],
   "source": [
    "for i in range(5):\n",
    "    for j in range(5):\n",
    "        _, train_loss = sess.run([flappy_graph.train_step, flappy_graph.loss], \n",
    "                    feed_dict={\n",
    "                        flappy_graph.inputs: X_data[i], \n",
    "                        flappy_graph.actions: actions[i], \n",
    "                        flappy_graph.rewards: rewards[i], \n",
    "                        flappy_graph.lr: 0.001}\n",
    "                    )\n",
    "        print(\"loss\", train_loss)"
   ]
  },
  {
   "cell_type": "code",
   "execution_count": 7,
   "metadata": {
    "collapsed": true
   },
   "outputs": [],
   "source": [
    "saver = tf.train.Saver()\n",
    "\n",
    "if not os.path.exists(MODEL_DIR):\n",
    "    os.makedirs(MODEL_DIR)\n",
    "    saver.save(sess, os.path.join(MODEL_DIR, \"trained_flappy\"))"
   ]
  },
  {
   "cell_type": "code",
   "execution_count": null,
   "metadata": {
    "collapsed": true
   },
   "outputs": [],
   "source": []
  }
 ],
 "metadata": {
  "kernelspec": {
   "display_name": "Python 3",
   "language": "python",
   "name": "python3"
  },
  "language_info": {
   "codemirror_mode": {
    "name": "ipython",
    "version": 3
   },
   "file_extension": ".py",
   "mimetype": "text/x-python",
   "name": "python",
   "nbconvert_exporter": "python",
   "pygments_lexer": "ipython3",
   "version": "3.6.3"
  }
 },
 "nbformat": 4,
 "nbformat_minor": 2
}
