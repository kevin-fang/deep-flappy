{
 "cells": [
  {
   "cell_type": "code",
   "execution_count": 1,
   "metadata": {
    "collapsed": true
   },
   "outputs": [],
   "source": [
    "import train_nn"
   ]
  },
  {
   "cell_type": "code",
   "execution_count": 2,
   "metadata": {
    "collapsed": true
   },
   "outputs": [],
   "source": [
    "import random, os\n",
    "import numpy as np\n",
    "from config import *\n",
    "import tensorflow as tf\n",
    "from tf_graph import FlappyGraph"
   ]
  },
  {
   "cell_type": "code",
   "execution_count": 3,
   "metadata": {
    "collapsed": true
   },
   "outputs": [],
   "source": [
    "def add_jumps_to_training(training_images, last_jumps):\n",
    "    print(\"Parsing data...\")\n",
    "    iter_counter = 0\n",
    "    X_data = []\n",
    "    # (game frames, height, width)\n",
    "    for i, game in enumerate(training_images):\n",
    "        X_data.append([])\n",
    "        for j, image in enumerate(game):\n",
    "            X_data[iter_counter].append(np.append(image.ravel(), last_jumps[i][j]))\n",
    "        X_data[iter_counter] = np.array(X_data[iter_counter], dtype=np.float32)\n",
    "        iter_counter += 1\n",
    "\n",
    "    return np.array(X_data)"
   ]
  },
  {
   "cell_type": "code",
   "execution_count": 4,
   "metadata": {},
   "outputs": [
    {
     "name": "stdout",
     "output_type": "stream",
     "text": [
      "Loading data...\n",
      "Parsing data...\n"
     ]
    }
   ],
   "source": [
    "print(\"Loading data...\")\n",
    "training_images = np.load(os.path.join(DATA_DIR, \"images.npy\"))\n",
    "actions = np.load(os.path.join(DATA_DIR, \"actions.npy\"))\n",
    "rewards = np.load(os.path.join(DATA_DIR, \"adjusted_rewards.npy\"))\n",
    "last_jumps = np.load(os.path.join(DATA_DIR, \"last_jumps.npy\"))\n",
    "X_data = add_jumps_to_training(training_images = training_images, last_jumps = last_jumps)"
   ]
  },
  {
   "cell_type": "code",
   "execution_count": 9,
   "metadata": {},
   "outputs": [],
   "source": [
    "flappy_graph = FlappyGraph(int((CANVAS_WIDTH * IMG_SCALE_FACTOR) * round(CANVAS_HEIGHT * IMG_SCALE_FACTOR)) + 1, 2)\n",
    "init = tf.global_variables_initializer()"
   ]
  },
  {
   "cell_type": "code",
   "execution_count": 10,
   "metadata": {
    "collapsed": true
   },
   "outputs": [],
   "source": [
    "sess = tf.Session()\n",
    "sess.run(init)    "
   ]
  },
  {
   "cell_type": "code",
   "execution_count": 13,
   "metadata": {
    "scrolled": true
   },
   "outputs": [
    {
     "name": "stdout",
     "output_type": "stream",
     "text": [
      "21231.4\n",
      "-1.51087e+06\n",
      "11427.6\n",
      "21779.8\n",
      "-764.583\n"
     ]
    }
   ],
   "source": [
    "for i in range(5):\n",
    "    for j in range(5):\n",
    "        _, train_loss = sess.run([flappy_graph.train_step, flappy_graph.loss], \n",
    "                    feed_dict={\n",
    "                        flappy_graph.inputs: X_data[i], \n",
    "                        flappy_graph.actions: actions[i], \n",
    "                        flappy_graph.rewards: rewards[i], \n",
    "                        flappy_graph.lr: 0.0001}\n",
    "                    )\n",
    "        print(\"loss\", train_loss)"
   ]
  },
  {
   "cell_type": "code",
   "execution_count": 14,
   "metadata": {
    "collapsed": true
   },
   "outputs": [],
   "source": [
    "saver = tf.train.Saver()\n",
    "\n",
    "if not os.path.exists(MODEL_DIR):\n",
    "    os.makedirs(MODEL_DIR)\n",
    "    saver.save(sess, os.path.join(MODEL_DIR, \"trained_flappy\"))"
   ]
  },
  {
   "cell_type": "code",
   "execution_count": null,
   "metadata": {
    "collapsed": true
   },
   "outputs": [],
   "source": []
  }
 ],
 "metadata": {
  "kernelspec": {
   "display_name": "Python 3",
   "language": "python",
   "name": "python3"
  },
  "language_info": {
   "codemirror_mode": {
    "name": "ipython",
    "version": 3
   },
   "file_extension": ".py",
   "mimetype": "text/x-python",
   "name": "python",
   "nbconvert_exporter": "python",
   "pygments_lexer": "ipython3",
   "version": "3.6.3"
  }
 },
 "nbformat": 4,
 "nbformat_minor": 2
}
