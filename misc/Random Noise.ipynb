{
 "cells": [
  {
   "cell_type": "code",
   "execution_count": 1,
   "metadata": {
    "collapsed": true
   },
   "outputs": [],
   "source": [
    "import tensorflow as tf\n",
    "import numpy as np\n",
    "from tf_graph import FlappyGraph\n",
    "from config import *"
   ]
  },
  {
   "cell_type": "code",
   "execution_count": 2,
   "metadata": {
    "collapsed": true
   },
   "outputs": [],
   "source": [
    "random_img = np.array(np.random.rand(142, 80) * 255, dtype=np.uint8)"
   ]
  },
  {
   "cell_type": "code",
   "execution_count": 3,
   "metadata": {
    "collapsed": true
   },
   "outputs": [],
   "source": [
    "random_img_flat = random_img.ravel()"
   ]
  },
  {
   "cell_type": "code",
   "execution_count": 4,
   "metadata": {
    "collapsed": true
   },
   "outputs": [],
   "source": [
    "random_img_flat = np.append(random_img_flat, 4)"
   ]
  },
  {
   "cell_type": "code",
   "execution_count": 5,
   "metadata": {
    "collapsed": true
   },
   "outputs": [],
   "source": [
    "flappy_graph = FlappyGraph(int((CANVAS_WIDTH * IMG_SCALE_FACTOR) * round(CANVAS_HEIGHT * IMG_SCALE_FACTOR)) + 1)\n",
    "init = tf.global_variables_initializer()\n",
    "global sess\n",
    "sess = tf.Session()\n",
    "sess.run(init)\n",
    "\n",
    "global saver\n",
    "saver = tf.train.Saver()"
   ]
  },
  {
   "cell_type": "code",
   "execution_count": 6,
   "metadata": {},
   "outputs": [
    {
     "name": "stdout",
     "output_type": "stream",
     "text": [
      "INFO:tensorflow:Restoring parameters from ./models/trained_flappy\n"
     ]
    }
   ],
   "source": [
    "saver.restore(sess, MODEL_PATH)"
   ]
  },
  {
   "cell_type": "code",
   "execution_count": 7,
   "metadata": {
    "collapsed": true
   },
   "outputs": [],
   "source": [
    "logits, prob = sess.run([flappy_graph.y_logits, flappy_graph.sigmoid], feed_dict={flappy_graph.inputs: np.array([random_img_flat])})"
   ]
  },
  {
   "cell_type": "code",
   "execution_count": 8,
   "metadata": {},
   "outputs": [
    {
     "name": "stdout",
     "output_type": "stream",
     "text": [
      "[[ 2.09173632]] [[ 0.89009738]]\n"
     ]
    }
   ],
   "source": [
    "print(logits, prob)"
   ]
  },
  {
   "cell_type": "code",
   "execution_count": 23,
   "metadata": {
    "collapsed": true
   },
   "outputs": [],
   "source": [
    "def visualize_row(images, img_width=80, cmap='gray'):\n",
    "    im = np.reshape(images, [-1, img_width])\n",
    "    plt.figure()\n",
    "    plt.axis('off')\n",
    "    plt.imshow(im, cmap=cmap)\n",
    "    plt.show()"
   ]
  },
  {
   "cell_type": "code",
   "execution_count": 24,
   "metadata": {},
   "outputs": [],
   "source": [
    "w1 = sess.run([flappy_graph.W1])"
   ]
  },
  {
   "cell_type": "code",
   "execution_count": 25,
   "metadata": {},
   "outputs": [
    {
     "data": {
      "text/plain": [
       "array([[ -6.72608963e-04,   7.72136773e-05,   1.10122713e-03, ...,\n",
       "          6.59109734e-04,   6.81838646e-05,   8.85835965e-04],\n",
       "       [ -9.68467968e-04,  -2.83453264e-04,   8.46167444e-04, ...,\n",
       "          4.58742143e-04,  -1.74310160e-04,  -2.92622804e-04],\n",
       "       [ -9.71073343e-04,  -6.86803192e-04,   6.25341840e-04, ...,\n",
       "          1.13373470e-04,   1.33125723e-04,  -1.35280308e-03],\n",
       "       ..., \n",
       "       [ -6.31943112e-05,   1.65041693e-05,   9.08720889e-04, ...,\n",
       "          7.26423692e-04,  -7.85968557e-04,   1.22445507e-03],\n",
       "       [  8.23710652e-05,  -7.90589373e-04,  -1.64951629e-03, ...,\n",
       "          1.31041306e-04,   4.01348778e-04,  -7.65870282e-05],\n",
       "       [  1.79067560e-04,   5.04364027e-04,   5.44777198e-04, ...,\n",
       "          2.72620178e-04,  -3.64284177e-04,   3.94217437e-04]], dtype=float32)"
      ]
     },
     "execution_count": 25,
     "metadata": {},
     "output_type": "execute_result"
    }
   ],
   "source": [
    "np.array(w1[0])"
   ]
  },
  {
   "cell_type": "code",
   "execution_count": null,
   "metadata": {
    "collapsed": true
   },
   "outputs": [],
   "source": []
  }
 ],
 "metadata": {
  "kernelspec": {
   "display_name": "Python 3",
   "language": "python",
   "name": "python3"
  },
  "language_info": {
   "codemirror_mode": {
    "name": "ipython",
    "version": 3
   },
   "file_extension": ".py",
   "mimetype": "text/x-python",
   "name": "python",
   "nbconvert_exporter": "python",
   "pygments_lexer": "ipython3",
   "version": "3.6.3"
  }
 },
 "nbformat": 4,
 "nbformat_minor": 2
}
